{
 "metadata": {
  "language_info": {
   "codemirror_mode": {
    "name": "ipython",
    "version": 3
   },
   "file_extension": ".py",
   "mimetype": "text/x-python",
   "name": "python",
   "nbconvert_exporter": "python",
   "pygments_lexer": "ipython3",
   "version": "3.8.3-final"
  },
  "orig_nbformat": 2,
  "kernelspec": {
   "name": "python_defaultSpec_1599838619501",
   "display_name": "Python 3.8.3 64-bit ('base': conda)"
  }
 },
 "nbformat": 4,
 "nbformat_minor": 2,
 "cells": [
  {
   "cell_type": "markdown",
   "metadata": {},
   "source": [
    "# 感知机\n",
    "\n",
    "## 感知机是什么\n",
    "\n",
    "感知机接收多个输入信号，输出一个信号。\n",
    "\n",
    "\n",
    "一个简单的接受两个输入的感知机：\n",
    "\n",
    "$$\n",
    "y=\\left\\{\\begin{array}{ll}\n",
    "0 & \\left(w_{1} x_{1}+w_{2} x_{2} \\leqslant \\theta\\right) \\\\\n",
    "1 & \\left(w_{1} x_{1}+w_{2} x_{2}>\\theta\\right)\n",
    "\\end{array}\\right.\n",
    "$$\n",
    "\n",
    "\n",
    "感知机的多个输入信号都有各自固有的权重，这些权重发挥着控制各个信号的重要性的作用。也就是说，权重越大，对应该权重的信号的重要性就越高。"
   ]
  },
  {
   "cell_type": "code",
   "execution_count": 1,
   "metadata": {
    "tags": []
   },
   "outputs": [],
   "source": [
    "## 感知机的简单实现\n",
    "\n",
    "import numpy as np\n",
    "\n",
    "def AND(x1, x2):\n",
    "    x = np.array([x1, x2])\n",
    "    w = np.array([0.5, 0.5])\n",
    "    b = -0.7\n",
    "    tmp = np.sum(w*x) + b\n",
    "    if tmp <= 0:\n",
    "        return 0\n",
    "    else:\n",
    "        return 1\n",
    "\n",
    "def NAND(x1, x2):\n",
    "    x = np.array([x1, x2])\n",
    "    w = np.array([-0.5, -0.5])\n",
    "    b = -0.7\n",
    "    tmp = np.sum(w*x) + b\n",
    "    if tmp <= 0:\n",
    "        return 0\n",
    "    else:\n",
    "        return 1\n",
    "\n",
    "def OR(x1, x2):\n",
    "    x = np.array([x1, x2])\n",
    "    w = np.array([0.5, 0.5])\n",
    "    b = -0.2\n",
    "    tmp = np.sum(w*x) + b\n",
    "    if tmp <= 0:\n",
    "        return 0\n",
    "    else:\n",
    "        return 1"
   ]
  },
  {
   "cell_type": "code",
   "execution_count": 2,
   "metadata": {
    "tags": []
   },
   "outputs": [
    {
     "output_type": "stream",
     "name": "stdout",
     "text": "AND(0, 0) =  0\nNAND(0, 0) =  0\nOR(0, 0) =  0\nAND(0, 1) =  0\nNAND(0, 1) =  0\nOR(0, 1) =  1\nAND(1, 0) =  0\nNAND(1, 0) =  0\nOR(1, 0) =  1\nAND(1, 1) =  1\nNAND(1, 1) =  0\nOR(1, 1) =  1\n"
    }
   ],
   "source": [
    "num = [(0, 0), (0, 1), (1, 0), (1, 1)]\n",
    "for a, b in num:\n",
    "    print(\"AND({}, {}) = \".format(a, b),AND(a, b))\n",
    "    print(\"NAND({}, {}) = \".format(a, b),NAND(a, b))\n",
    "    print(\"OR({}, {}) = \".format(a, b),OR(a, b))"
   ]
  },
  {
   "cell_type": "markdown",
   "metadata": {},
   "source": [
    "## 感知机的局限性\n",
    "\n",
    "感知机虽然可以实现与门、与非门、或门三种逻辑电路，但无法实现异或门；\n",
    "\n",
    "感知机的局限性就在于它只能表示由一条直线分割的空间。由曲线分割而成的空间称为非线性空间，由直线分割而成的空间称为线性空间。"
   ]
  },
  {
   "cell_type": "markdown",
   "metadata": {},
   "source": [
    "## 多层感知机\n",
    "\n",
    "虽然感知机无法表示异或门，但可以通过叠加多层感知机实现复杂的功能，例如异或门可以用多层感知机实现；"
   ]
  },
  {
   "cell_type": "code",
   "execution_count": 3,
   "metadata": {},
   "outputs": [],
   "source": [
    "def XOR(x1, x2):\n",
    "    s1 = NAND(x1, x2)\n",
    "    s2 = OR(x1, x2)\n",
    "    y = AND(s1, s2)\n",
    "    return y"
   ]
  },
  {
   "cell_type": "markdown",
   "metadata": {},
   "source": [
    "单层感知机只能表示线性空间，而多层感知机可以表示非线性空间。"
   ]
  }
 ]
}